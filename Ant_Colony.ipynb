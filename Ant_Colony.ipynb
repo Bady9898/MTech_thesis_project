{
  "nbformat": 4,
  "nbformat_minor": 0,
  "metadata": {
    "colab": {
      "name": "Ant Colony.ipynb",
      "provenance": [],
      "authorship_tag": "ABX9TyOOVNOyPVdAcrD4sBuXgGnP",
      "include_colab_link": true
    },
    "kernelspec": {
      "name": "python3",
      "display_name": "Python 3"
    },
    "language_info": {
      "name": "python"
    }
  },
  "cells": [
    {
      "cell_type": "markdown",
      "metadata": {
        "id": "view-in-github",
        "colab_type": "text"
      },
      "source": [
        "<a href=\"https://colab.research.google.com/github/Bady9898/MTech_thesis_project/blob/main/Ant_Colony.ipynb\" target=\"_parent\"><img src=\"https://colab.research.google.com/assets/colab-badge.svg\" alt=\"Open In Colab\"/></a>"
      ]
    },
    {
      "cell_type": "markdown",
      "source": [
        "## Ant Colony optimisation using Python"
      ],
      "metadata": {
        "id": "f6--SOQ-slye"
      }
    },
    {
      "cell_type": "code",
      "source": [
        "import random as rn\n",
        "import numpy as np\n",
        "from numpy.random import choice as np_choice"
      ],
      "metadata": {
        "id": "DV6vc_hhVRiT"
      },
      "execution_count": 4,
      "outputs": []
    },
    {
      "cell_type": "markdown",
      "source": [
        "        Args:\n",
        "            distances (2D numpy.array): Square matrix of distances. Diagonal is assumed to be np.inf.\n",
        "            n_ants (int): Number of ants running per iteration\n",
        "            n_best (int): Number of best ants who deposit pheromone\n",
        "            n_iteration (int): Number of iterations\n",
        "            decay (float): Rate it which pheromone decays. The pheromone value is multiplied by decay, so 0.95 will lead to decay, 0.5 to much faster decay.\n",
        "            alpha (int or float): exponenet on pheromone, higher alpha gives pheromone more weight. Default=1\n",
        "            beta (int or float): exponent on distance, higher beta give distance more weight. Default=1\n",
        "        Example:\n",
        "            ant_colony = AntColony(german_distances, 100, 20, 2000, 0.95, alpha=1, beta=2)          "
      ],
      "metadata": {
        "id": "a83rOglSVbu7"
      }
    },
    {
      "cell_type": "code",
      "source": [
        "class AntColony(object):\n",
        "\n",
        "    def __init__(self, distances, n_ants, n_best, n_iterations, decay, alpha=1, beta=1):      \n",
        "        \n",
        "        self.distances  = distances\n",
        "        self.pheromone = np.ones(self.distances.shape) / len(distances)\n",
        "        self.all_inds = range(len(distances))\n",
        "        self.n_ants = n_ants\n",
        "        self.n_best = n_best\n",
        "        self.n_iterations = n_iterations\n",
        "        self.decay = decay\n",
        "        self.alpha = alpha\n",
        "        self.beta = beta\n",
        "\n",
        "    def run(self):\n",
        "        shortest_path = None\n",
        "        all_time_shortest_path = (\"placeholder\", np.inf)\n",
        "        for i in range(self.n_iterations):\n",
        "            all_paths = self.gen_all_paths()\n",
        "            self.spread_pheronome(all_paths, self.n_best, shortest_path=shortest_path)\n",
        "            shortest_path = min(all_paths, key=lambda x: x[1])\n",
        "            print (shortest_path)\n",
        "            if shortest_path[1] < all_time_shortest_path[1]:\n",
        "                all_time_shortest_path = shortest_path            \n",
        "            self.pheromone = self.pheromone * self.decay            \n",
        "        return all_time_shortest_path\n",
        "\n",
        "    def spread_pheronome(self, all_paths, n_best, shortest_path):\n",
        "        sorted_paths = sorted(all_paths, key=lambda x: x[1])\n",
        "        for path, dist in sorted_paths[:n_best]:\n",
        "            for move in path:\n",
        "                self.pheromone[move] += 1.0 / self.distances[move]\n",
        "\n",
        "    def gen_path_dist(self, path):\n",
        "        total_dist = 0\n",
        "        for ele in path:\n",
        "            total_dist += self.distances[ele]\n",
        "        return total_dist\n",
        "\n",
        "    def gen_all_paths(self):\n",
        "        all_paths = []\n",
        "        for i in range(self.n_ants):\n",
        "            path = self.gen_path(0)\n",
        "            all_paths.append((path, self.gen_path_dist(path)))\n",
        "        return all_paths\n",
        "\n",
        "    def gen_path(self, start):\n",
        "        path = []\n",
        "        visited = set()\n",
        "        visited.add(start)\n",
        "        prev = start\n",
        "        for i in range(len(self.distances) - 1):\n",
        "            move = self.pick_move(self.pheromone[prev], self.distances[prev], visited)\n",
        "            path.append((prev, move))\n",
        "            prev = move\n",
        "            visited.add(move)\n",
        "        path.append((prev, start)) # going back to where we started    \n",
        "        return path\n",
        "\n",
        "    def pick_move(self, pheromone, dist, visited):\n",
        "        pheromone = np.copy(pheromone)\n",
        "        pheromone[list(visited)] = 0\n",
        "\n",
        "        row = pheromone ** self.alpha * (( 1.0 / dist) ** self.beta)\n",
        "\n",
        "        norm_row = row / row.sum()\n",
        "        move = np_choice(self.all_inds, 1, p=norm_row)[0]\n",
        "        return move"
      ],
      "metadata": {
        "id": "-Os1C62xUSDU"
      },
      "execution_count": 5,
      "outputs": []
    },
    {
      "cell_type": "markdown",
      "source": [
        "## Input:"
      ],
      "metadata": {
        "id": "8FdMrcuHVvvs"
      }
    },
    {
      "cell_type": "code",
      "source": [
        "distances = np.array([[np.inf, 2, 2, 5, 7],\n",
        "                      [2, np.inf, 4, 8, 2],\n",
        "                      [2, 4, np.inf, 1, 3],\n",
        "                      [5, 8, 1, np.inf, 2],\n",
        "                      [7, 2, 3, 2, np.inf]])"
      ],
      "metadata": {
        "id": "YTT7c5SjT-E4"
      },
      "execution_count": 9,
      "outputs": []
    },
    {
      "cell_type": "markdown",
      "source": [
        "## Output"
      ],
      "metadata": {
        "id": "4khe3nhFV16Q"
      }
    },
    {
      "cell_type": "code",
      "source": [
        "ant_colony = AntColony(distances, 1, 1, 100, 0.95, alpha=1, beta=1)\n",
        "shortest_path = ant_colony.run()\n",
        "print (\"shorted_path: {}\".format(shortest_path))"
      ],
      "metadata": {
        "colab": {
          "base_uri": "https://localhost:8080/"
        },
        "id": "Ap_xeoikaQFV",
        "outputId": "4d5eb843-be6b-420c-a70b-d4e8b39e4933"
      },
      "execution_count": 7,
      "outputs": [
        {
          "output_type": "stream",
          "name": "stdout",
          "text": [
            "([(0, 1), (1, 4), (4, 3), (3, 2), (2, 0)], 9.0)\n",
            "([(0, 1), (1, 4), (4, 3), (3, 2), (2, 0)], 9.0)\n",
            "([(0, 2), (2, 3), (3, 4), (4, 1), (1, 0)], 9.0)\n",
            "([(0, 4), (4, 3), (3, 2), (2, 1), (1, 0)], 16.0)\n",
            "([(0, 1), (1, 4), (4, 3), (3, 2), (2, 0)], 9.0)\n",
            "([(0, 2), (2, 3), (3, 4), (4, 1), (1, 0)], 9.0)\n",
            "([(0, 2), (2, 3), (3, 4), (4, 1), (1, 0)], 9.0)\n",
            "([(0, 1), (1, 4), (4, 3), (3, 2), (2, 0)], 9.0)\n",
            "([(0, 1), (1, 4), (4, 2), (2, 3), (3, 0)], 13.0)\n",
            "([(0, 1), (1, 4), (4, 3), (3, 2), (2, 0)], 9.0)\n",
            "([(0, 1), (1, 4), (4, 3), (3, 2), (2, 0)], 9.0)\n",
            "([(0, 1), (1, 4), (4, 3), (3, 2), (2, 0)], 9.0)\n",
            "([(0, 2), (2, 3), (3, 4), (4, 1), (1, 0)], 9.0)\n",
            "([(0, 2), (2, 3), (3, 4), (4, 1), (1, 0)], 9.0)\n",
            "([(0, 1), (1, 4), (4, 3), (3, 2), (2, 0)], 9.0)\n",
            "([(0, 2), (2, 3), (3, 4), (4, 1), (1, 0)], 9.0)\n",
            "([(0, 1), (1, 4), (4, 3), (3, 2), (2, 0)], 9.0)\n",
            "([(0, 2), (2, 3), (3, 4), (4, 1), (1, 0)], 9.0)\n",
            "([(0, 1), (1, 4), (4, 3), (3, 2), (2, 0)], 9.0)\n",
            "([(0, 1), (1, 4), (4, 3), (3, 2), (2, 0)], 9.0)\n",
            "([(0, 1), (1, 4), (4, 3), (3, 2), (2, 0)], 9.0)\n",
            "([(0, 1), (1, 4), (4, 3), (3, 2), (2, 0)], 9.0)\n",
            "([(0, 1), (1, 4), (4, 3), (3, 2), (2, 0)], 9.0)\n",
            "([(0, 1), (1, 4), (4, 3), (3, 2), (2, 0)], 9.0)\n",
            "([(0, 1), (1, 4), (4, 3), (3, 2), (2, 0)], 9.0)\n",
            "([(0, 2), (2, 3), (3, 4), (4, 1), (1, 0)], 9.0)\n",
            "([(0, 1), (1, 4), (4, 3), (3, 2), (2, 0)], 9.0)\n",
            "([(0, 2), (2, 3), (3, 4), (4, 1), (1, 0)], 9.0)\n",
            "([(0, 1), (1, 4), (4, 3), (3, 2), (2, 0)], 9.0)\n",
            "([(0, 1), (1, 4), (4, 3), (3, 2), (2, 0)], 9.0)\n",
            "([(0, 1), (1, 4), (4, 3), (3, 2), (2, 0)], 9.0)\n",
            "([(0, 1), (1, 4), (4, 3), (3, 2), (2, 0)], 9.0)\n",
            "([(0, 2), (2, 3), (3, 4), (4, 1), (1, 0)], 9.0)\n",
            "([(0, 2), (2, 3), (3, 4), (4, 1), (1, 0)], 9.0)\n",
            "([(0, 1), (1, 4), (4, 3), (3, 2), (2, 0)], 9.0)\n",
            "([(0, 1), (1, 4), (4, 3), (3, 2), (2, 0)], 9.0)\n",
            "([(0, 2), (2, 3), (3, 4), (4, 1), (1, 0)], 9.0)\n",
            "([(0, 2), (2, 3), (3, 4), (4, 1), (1, 0)], 9.0)\n",
            "([(0, 2), (2, 3), (3, 4), (4, 1), (1, 0)], 9.0)\n",
            "([(0, 1), (1, 4), (4, 3), (3, 2), (2, 0)], 9.0)\n",
            "([(0, 1), (1, 4), (4, 3), (3, 2), (2, 0)], 9.0)\n",
            "([(0, 1), (1, 4), (4, 3), (3, 2), (2, 0)], 9.0)\n",
            "([(0, 1), (1, 4), (4, 3), (3, 2), (2, 0)], 9.0)\n",
            "([(0, 1), (1, 4), (4, 3), (3, 2), (2, 0)], 9.0)\n",
            "([(0, 2), (2, 3), (3, 4), (4, 1), (1, 0)], 9.0)\n",
            "([(0, 2), (2, 3), (3, 4), (4, 1), (1, 0)], 9.0)\n",
            "([(0, 2), (2, 3), (3, 4), (4, 1), (1, 0)], 9.0)\n",
            "([(0, 1), (1, 4), (4, 3), (3, 2), (2, 0)], 9.0)\n",
            "([(0, 2), (2, 3), (3, 4), (4, 1), (1, 0)], 9.0)\n",
            "([(0, 1), (1, 4), (4, 3), (3, 2), (2, 0)], 9.0)\n",
            "([(0, 2), (2, 3), (3, 4), (4, 1), (1, 0)], 9.0)\n",
            "([(0, 1), (1, 4), (4, 3), (3, 2), (2, 0)], 9.0)\n",
            "([(0, 1), (1, 4), (4, 3), (3, 2), (2, 0)], 9.0)\n",
            "([(0, 1), (1, 4), (4, 3), (3, 2), (2, 0)], 9.0)\n",
            "([(0, 1), (1, 4), (4, 3), (3, 2), (2, 0)], 9.0)\n",
            "([(0, 1), (1, 4), (4, 3), (3, 2), (2, 0)], 9.0)\n",
            "([(0, 2), (2, 3), (3, 4), (4, 1), (1, 0)], 9.0)\n",
            "([(0, 1), (1, 4), (4, 3), (3, 2), (2, 0)], 9.0)\n",
            "([(0, 1), (1, 4), (4, 3), (3, 2), (2, 0)], 9.0)\n",
            "([(0, 1), (1, 4), (4, 3), (3, 2), (2, 0)], 9.0)\n",
            "([(0, 1), (1, 4), (4, 3), (3, 2), (2, 0)], 9.0)\n",
            "([(0, 1), (1, 4), (4, 3), (3, 2), (2, 0)], 9.0)\n",
            "([(0, 1), (1, 4), (4, 3), (3, 2), (2, 0)], 9.0)\n",
            "([(0, 1), (1, 4), (4, 3), (3, 2), (2, 0)], 9.0)\n",
            "([(0, 1), (1, 4), (4, 3), (3, 2), (2, 0)], 9.0)\n",
            "([(0, 1), (1, 4), (4, 3), (3, 2), (2, 0)], 9.0)\n",
            "([(0, 1), (1, 4), (4, 3), (3, 2), (2, 0)], 9.0)\n",
            "([(0, 1), (1, 4), (4, 3), (3, 2), (2, 0)], 9.0)\n",
            "([(0, 1), (1, 4), (4, 3), (3, 2), (2, 0)], 9.0)\n",
            "([(0, 1), (1, 4), (4, 3), (3, 2), (2, 0)], 9.0)\n",
            "([(0, 1), (1, 4), (4, 3), (3, 2), (2, 0)], 9.0)\n",
            "([(0, 1), (1, 4), (4, 3), (3, 2), (2, 0)], 9.0)\n",
            "([(0, 2), (2, 3), (3, 4), (4, 1), (1, 0)], 9.0)\n",
            "([(0, 1), (1, 4), (4, 3), (3, 2), (2, 0)], 9.0)\n",
            "([(0, 1), (1, 4), (4, 3), (3, 2), (2, 0)], 9.0)\n",
            "([(0, 1), (1, 4), (4, 3), (3, 2), (2, 0)], 9.0)\n",
            "([(0, 1), (1, 4), (4, 3), (3, 2), (2, 0)], 9.0)\n",
            "([(0, 1), (1, 4), (4, 3), (3, 2), (2, 0)], 9.0)\n",
            "([(0, 2), (2, 3), (3, 4), (4, 1), (1, 0)], 9.0)\n",
            "([(0, 1), (1, 4), (4, 3), (3, 2), (2, 0)], 9.0)\n",
            "([(0, 1), (1, 4), (4, 3), (3, 2), (2, 0)], 9.0)\n",
            "([(0, 1), (1, 4), (4, 3), (3, 2), (2, 0)], 9.0)\n",
            "([(0, 1), (1, 4), (4, 3), (3, 2), (2, 0)], 9.0)\n",
            "([(0, 1), (1, 4), (4, 3), (3, 2), (2, 0)], 9.0)\n",
            "([(0, 1), (1, 4), (4, 3), (3, 2), (2, 0)], 9.0)\n",
            "([(0, 1), (1, 4), (4, 3), (3, 2), (2, 0)], 9.0)\n",
            "([(0, 1), (1, 4), (4, 3), (3, 2), (2, 0)], 9.0)\n",
            "([(0, 1), (1, 4), (4, 3), (3, 2), (2, 0)], 9.0)\n",
            "([(0, 1), (1, 4), (4, 3), (3, 2), (2, 0)], 9.0)\n",
            "([(0, 1), (1, 4), (4, 3), (3, 2), (2, 0)], 9.0)\n",
            "([(0, 1), (1, 4), (4, 3), (3, 2), (2, 0)], 9.0)\n",
            "([(0, 2), (2, 3), (3, 4), (4, 1), (1, 0)], 9.0)\n",
            "([(0, 1), (1, 4), (4, 3), (3, 2), (2, 0)], 9.0)\n",
            "([(0, 1), (1, 4), (4, 3), (3, 2), (2, 0)], 9.0)\n",
            "([(0, 1), (1, 4), (4, 3), (3, 2), (2, 0)], 9.0)\n",
            "([(0, 1), (1, 4), (4, 3), (3, 2), (2, 0)], 9.0)\n",
            "([(0, 1), (1, 4), (4, 3), (3, 2), (2, 0)], 9.0)\n",
            "([(0, 1), (1, 4), (4, 3), (3, 2), (2, 0)], 9.0)\n",
            "([(0, 1), (1, 4), (4, 3), (3, 2), (2, 0)], 9.0)\n",
            "([(0, 1), (1, 4), (4, 3), (3, 2), (2, 0)], 9.0)\n",
            "shorted_path: ([(0, 1), (1, 4), (4, 3), (3, 2), (2, 0)], 9.0)\n"
          ]
        }
      ]
    },
    {
      "cell_type": "markdown",
      "source": [
        "The shortest path is ([(0, 1), (1, 4), (4, 3), (3, 2), (2, 0)], 9.0)"
      ],
      "metadata": {
        "id": "o47dHVuAV61B"
      }
    }
  ]
}